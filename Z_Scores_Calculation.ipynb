{
  "nbformat": 4,
  "nbformat_minor": 0,
  "metadata": {
    "colab": {
      "provenance": [],
      "authorship_tag": "ABX9TyOay54+8CYx4yx3bx5MQFQr",
      "include_colab_link": true
    },
    "kernelspec": {
      "name": "python3",
      "display_name": "Python 3"
    },
    "language_info": {
      "name": "python"
    }
  },
  "cells": [
    {
      "cell_type": "markdown",
      "metadata": {
        "id": "view-in-github",
        "colab_type": "text"
      },
      "source": [
        "<a href=\"https://colab.research.google.com/github/Ranabirju15/CADD/blob/main/Z_Scores_Calculation.ipynb\" target=\"_parent\"><img src=\"https://colab.research.google.com/assets/colab-badge.svg\" alt=\"Open In Colab\"/></a>"
      ]
    },
    {
      "cell_type": "code",
      "execution_count": 3,
      "metadata": {
        "colab": {
          "base_uri": "https://localhost:8080/"
        },
        "id": "DkC0oyi9BX_M",
        "outputId": "17411bd4-8abc-4afe-a15e-c3d1d54cab96"
      },
      "outputs": [
        {
          "output_type": "execute_result",
          "data": {
            "text/plain": [
              "array([-6.07305761, -5.52850896, -5.59699178, ...,  1.51556999,\n",
              "        0.67294247,  1.27963907])"
            ]
          },
          "metadata": {},
          "execution_count": 3
        }
      ],
      "source": [
        "import pandas as pd\n",
        "import numpy as np\n",
        "\n",
        "# Load Z-scores from a CSV file (replace 'z_scores.csv' with your file path)\n",
        "df = pd.read_csv('z_scores.csv')\n",
        "\n",
        "# Assuming the Z-scores are stored in a column named 'Z_Scores' in the CSV file\n",
        "z_scores = df['Z_Scores'].values\n",
        "z_scores\n",
        "\n"
      ]
    },
    {
      "cell_type": "code",
      "source": [
        "# Calculate percentiles\n",
        "Q1 = np.percentile(z_scores, 25)\n",
        "median = np.percentile(z_scores, 50)\n",
        "Q3 = np.percentile(z_scores, 75)\n",
        "\n",
        "print(\"25th Percentile (Q1):\", Q1)\n",
        "print(\"Median (50th Percentile):\", median)\n",
        "print(\"75th Percentile (Q3):\", Q3)"
      ],
      "metadata": {
        "colab": {
          "base_uri": "https://localhost:8080/"
        },
        "id": "VMU4pUlqLOip",
        "outputId": "d83929ca-2db2-4ed6-9d6b-903c60521a1b"
      },
      "execution_count": 4,
      "outputs": [
        {
          "output_type": "stream",
          "name": "stdout",
          "text": [
            "25th Percentile (Q1): -0.196169934\n",
            "Median (50th Percentile): 0.084061527\n",
            "75th Percentile (Q3): 0.374110154\n"
          ]
        }
      ]
    }
  ]
}