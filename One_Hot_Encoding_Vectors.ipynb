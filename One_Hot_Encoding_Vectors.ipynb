{
  "nbformat": 4,
  "nbformat_minor": 0,
  "metadata": {
    "colab": {
      "provenance": [],
      "authorship_tag": "ABX9TyOxD+orO+lbP2tZ3iS3Y2qr",
      "include_colab_link": true
    },
    "kernelspec": {
      "name": "python3",
      "display_name": "Python 3"
    },
    "language_info": {
      "name": "python"
    }
  },
  "cells": [
    {
      "cell_type": "markdown",
      "metadata": {
        "id": "view-in-github",
        "colab_type": "text"
      },
      "source": [
        "<a href=\"https://colab.research.google.com/github/Ranabirju15/CADD/blob/main/One_Hot_Encoding_Vectors.ipynb\" target=\"_parent\"><img src=\"https://colab.research.google.com/assets/colab-badge.svg\" alt=\"Open In Colab\"/></a>"
      ]
    },
    {
      "cell_type": "code",
      "execution_count": null,
      "metadata": {
        "colab": {
          "base_uri": "https://localhost:8080/"
        },
        "id": "Z7RutTRAGCCi",
        "outputId": "b70b4834-06a5-4493-f705-09ec0c74868d"
      },
      "outputs": [
        {
          "output_type": "stream",
          "name": "stdout",
          "text": [
            "[[1. 0. 0. 0. 0. 0. 0. 0. 0. 0. 0. 0. 0. 0. 0. 0. 0. 0. 0. 0.]\n",
            " [0. 1. 0. 0. 0. 0. 0. 0. 0. 0. 0. 0. 0. 0. 0. 0. 0. 0. 0. 0.]\n",
            " [0. 0. 1. 0. 0. 0. 0. 0. 0. 0. 0. 0. 0. 0. 0. 0. 0. 0. 0. 0.]]\n"
          ]
        }
      ],
      "source": [
        "import numpy as np\n",
        "\n",
        "# List of amino acids\n",
        "amino_acids = 'ACDEFGHIKLMNPQRSTVWY'\n",
        "\n",
        "# Create a mapping from amino acid to index\n",
        "amino_acid_to_index = {aa: i for i, aa in enumerate(amino_acids)}\n",
        "\n",
        "def one_hot_encode_sequence(sequence):\n",
        "    # Initialize one-hot encoding matrix\n",
        "    one_hot_matrix = np.zeros((len(sequence), len(amino_acids)))\n",
        "    for i, aa in enumerate(sequence):\n",
        "        if aa in amino_acid_to_index:\n",
        "            one_hot_matrix[i, amino_acid_to_index[aa]] = 1\n",
        "    return one_hot_matrix\n",
        "\n",
        "# Example sequence\n",
        "sequence = 'ACD'\n",
        "one_hot_matrix = one_hot_encode_sequence(sequence)\n",
        "print(one_hot_matrix)\n"
      ]
    }
  ]
}